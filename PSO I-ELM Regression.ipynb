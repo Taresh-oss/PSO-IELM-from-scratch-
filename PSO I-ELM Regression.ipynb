{
 "cells": [
  {
   "cell_type": "code",
   "execution_count": 1,
   "metadata": {},
   "outputs": [],
   "source": [
    "import pandas as pd\n",
    "import numpy as np\n",
    "from sklearn.preprocessing import MinMaxScaler\n",
    "from sklearn.preprocessing import OneHotEncoder\n",
    "from scipy.linalg import pinv2\n",
    "from sklearn.metrics import accuracy_score\n",
    "from numpy import linalg as LA\n",
    "from sklearn.preprocessing import label_binarize\n",
    "from sklearn import preprocessing\n",
    "from sklearn.model_selection import train_test_split\n",
    "from sklearn.metrics import mean_squared_error\n",
    "from math import sqrt\n",
    "import time\n",
    "import pyswarms as ps\n",
    "\n",
    "from pyswarms.single.global_best import GlobalBestPSO\n",
    "from pyswarms.utils.functions import single_obj as fx\n",
    "# Some more magic so that the notebook will reload external python modules;\n",
    "# see http://stackoverflow.com/questions/1907993/autoreload-of-modules-in-ipython\n",
    "%load_ext autoreload\n",
    "%autoreload 2"
   ]
  },
  {
   "cell_type": "code",
   "execution_count": 2,
   "metadata": {},
   "outputs": [],
   "source": [
    "#Importing dataset\n",
    "dataframe=pd.read_csv(\"ENB2012.csv\")\n",
    "dataframe.sample(frac=1) # Randomizing the whole dataset\n",
    "DF_train,DF_test=train_test_split(dataframe, test_size=0.30) #Splitting the dataset into training and testing set with 70:30 ratio.\n",
    "Tr_features=DF_train[['X1','X2','X3','X4','X5','X6','X7','X8']]\n",
    "Te_features=DF_test[['X1','X2','X3','X4','X5','X6','X7','X8']]\n",
    "Tr_Label=DF_train[['Y2']]\n",
    "Te_Label=DF_test[['Y2']]\n",
    "\n",
    "scalerObject=MinMaxScaler()\n",
    "#Normalizing\n",
    "Train_features=scalerObject.fit_transform(Tr_features)\n",
    "Test_features=scalerObject.fit_transform(Te_features)\n",
    "Train_Label=scalerObject.fit_transform(Tr_Label)\n",
    "Test_Label=scalerObject.fit_transform(Te_Label)\n"
   ]
  },
  {
   "cell_type": "code",
   "execution_count": 3,
   "metadata": {},
   "outputs": [],
   "source": [
    "def relu(X):\n",
    "    return np.maximum(0,X)"
   ]
  },
  {
   "cell_type": "code",
   "execution_count": 4,
   "metadata": {},
   "outputs": [],
   "source": [
    "def RMSE(y_actual,y_predicted):\n",
    "    return sqrt(mean_squared_error(y_actual, y_predicted))"
   ]
  },
  {
   "cell_type": "code",
   "execution_count": 5,
   "metadata": {},
   "outputs": [],
   "source": [
    "def IELm_objective(dimensions,E):\n",
    "  \n",
    "    a = dimensions[0:8].reshape((len(Train_features[0]),1))\n",
    "    b=dimensions[-1].reshape(1,1)\n",
    "    predicted_accuracy=0  #Initial value of accuracy\n",
    "    beta=0\n",
    "    mul=np.dot(Train_features,a)\n",
    "    sum=mul+b\n",
    "    activation=relu(sum) # activation function sigmoid to calculate H\n",
    "    beta_overall=np.dot(np.linalg.pinv(activation),E) # beta= inverse(H) * Target Label. As our target keeps on changing with new neuron\n",
    "                                         #hence E\n",
    "    y=np.dot(activation,beta_overall) # Calculated output\n",
    "    E=E-y # Updated Training Label or Error\n",
    "    predicted_rmse=RMSE(y,Train_Label) #Calculating the accuracy of the predicted labels\n",
    "    return predicted_rmse"
   ]
  },
  {
   "cell_type": "code",
   "execution_count": 6,
   "metadata": {},
   "outputs": [],
   "source": [
    "def swarm_initializer(input,**kwargs):\n",
    "\n",
    "    particles = input.shape[0]\n",
    "    for i in range(particles):\n",
    "        loss = IELm_objective(input[i],**kwargs)\n",
    "    return np.array(loss)"
   ]
  },
  {
   "cell_type": "code",
   "execution_count": 7,
   "metadata": {},
   "outputs": [
    {
     "name": "stderr",
     "output_type": "stream",
     "text": [
      "2020-10-30 22:02:40,104 - pyswarms.single.global_best - INFO - Optimize for 50 iters with {'c1': 0.5, 'c2': 0.3, 'w': 0.9}\n",
      "pyswarms.single.global_best:  32%|████████████████████▏                                          |16/50, best_cost=0.18"
     ]
    },
    {
     "name": "stdout",
     "output_type": "stream",
     "text": [
      "[[-0.66107378]\n",
      " [-0.32275013]\n",
      " [-0.01174512]\n",
      " [-0.64901455]\n",
      " [-0.68621937]\n",
      " [ 0.01196192]\n",
      " [-0.0977581 ]\n",
      " [ 0.56662726]]\n",
      "-------- TRAINING RMSE ----------\n",
      "\n",
      "0.45298840411497093 With 1  Neuron\n"
     ]
    },
    {
     "name": "stderr",
     "output_type": "stream",
     "text": [
      "pyswarms.single.global_best: 100%|██████████████████████████████████████████████████████████████|50/50, best_cost=0.166\n",
      "2020-10-30 22:02:40,426 - pyswarms.single.global_best - INFO - Optimization finished | best cost: 0.16648653045108894, best pos: [ 0.32740918  0.35734395 -0.67814508 -0.4454094   0.53803603  0.13732783\n",
      " -0.26347853  0.57193597 -0.86541839]\n",
      "2020-10-30 22:02:40,439 - pyswarms.single.global_best - INFO - Optimize for 50 iters with {'c1': 0.5, 'c2': 0.3, 'w': 0.9}\n",
      "pyswarms.single.global_best:  34%|█████████████████████                                         |17/50, best_cost=0.138"
     ]
    },
    {
     "name": "stdout",
     "output_type": "stream",
     "text": [
      "[ 0.32740918  0.35734395 -0.67814508 -0.4454094   0.53803603  0.13732783\n",
      " -0.26347853  0.57193597 -0.86541839]\n",
      "0.43067502740785935 with 2  Neuron \n"
     ]
    },
    {
     "name": "stderr",
     "output_type": "stream",
     "text": [
      "pyswarms.single.global_best: 100%|██████████████████████████████████████████████████████████████|50/50, best_cost=0.138\n",
      "2020-10-30 22:02:40,765 - pyswarms.single.global_best - INFO - Optimization finished | best cost: 0.1375174565345297, best pos: [-0.30644588  0.93744598 -0.51980922 -0.99189073 -0.27648582 -0.53916074\n",
      "  0.23366358  0.51934679 -0.61458546]\n",
      "2020-10-30 22:02:40,778 - pyswarms.single.global_best - INFO - Optimize for 50 iters with {'c1': 0.5, 'c2': 0.3, 'w': 0.9}\n",
      "pyswarms.single.global_best:  34%|█████████████████████                                         |17/50, best_cost=0.137"
     ]
    },
    {
     "name": "stdout",
     "output_type": "stream",
     "text": [
      "[-0.30644588  0.93744598 -0.51980922 -0.99189073 -0.27648582 -0.53916074\n",
      "  0.23366358  0.51934679 -0.61458546]\n",
      "0.45298840411497093 with 3  Neuron \n"
     ]
    },
    {
     "name": "stderr",
     "output_type": "stream",
     "text": [
      "pyswarms.single.global_best: 100%|██████████████████████████████████████████████████████████████|50/50, best_cost=0.137\n",
      "2020-10-30 22:02:41,088 - pyswarms.single.global_best - INFO - Optimization finished | best cost: 0.13713167498343778, best pos: [-0.17879421  0.13136125  0.65010987  0.60370795 -0.31167897  0.22504279\n",
      " -0.67473244  0.07933197 -0.6714406 ]\n",
      "2020-10-30 22:02:41,098 - pyswarms.single.global_best - INFO - Optimize for 50 iters with {'c1': 0.5, 'c2': 0.3, 'w': 0.9}\n",
      "pyswarms.single.global_best:  34%|█████████████████████                                         |17/50, best_cost=0.167"
     ]
    },
    {
     "name": "stdout",
     "output_type": "stream",
     "text": [
      "[-0.17879421  0.13136125  0.65010987  0.60370795 -0.31167897  0.22504279\n",
      " -0.67473244  0.07933197 -0.6714406 ]\n",
      "0.45009710681289755 with 4  Neuron \n"
     ]
    },
    {
     "name": "stderr",
     "output_type": "stream",
     "text": [
      "pyswarms.single.global_best: 100%|██████████████████████████████████████████████████████████████|50/50, best_cost=0.155\n",
      "2020-10-30 22:02:41,404 - pyswarms.single.global_best - INFO - Optimization finished | best cost: 0.1554475938720052, best pos: [ 0.28596516  0.58846337 -0.02192988  0.84619689  0.5563828   0.00935755\n",
      " -0.65750547 -0.68582234  0.03045099]\n",
      "2020-10-30 22:02:41,416 - pyswarms.single.global_best - INFO - Optimize for 50 iters with {'c1': 0.5, 'c2': 0.3, 'w': 0.9}\n",
      "pyswarms.single.global_best:  34%|█████████████████████                                         |17/50, best_cost=0.254"
     ]
    },
    {
     "name": "stdout",
     "output_type": "stream",
     "text": [
      "[ 0.28596516  0.58846337 -0.02192988  0.84619689  0.5563828   0.00935755\n",
      " -0.65750547 -0.68582234  0.03045099]\n",
      "0.3878346363334901 with 5  Neuron \n"
     ]
    },
    {
     "name": "stderr",
     "output_type": "stream",
     "text": [
      "pyswarms.single.global_best: 100%|██████████████████████████████████████████████████████████████|50/50, best_cost=0.239\n",
      "2020-10-30 22:02:41,722 - pyswarms.single.global_best - INFO - Optimization finished | best cost: 0.23863191556026067, best pos: [ 0.64754951  0.07638752 -0.10140903 -0.31882271 -0.94608099 -0.82395151\n",
      "  0.20424368 -0.52439884  0.20653572]\n",
      "2020-10-30 22:02:41,732 - pyswarms.single.global_best - INFO - Optimize for 50 iters with {'c1': 0.5, 'c2': 0.3, 'w': 0.9}\n",
      "pyswarms.single.global_best:  32%|███████████████████▊                                          |16/50, best_cost=0.212"
     ]
    },
    {
     "name": "stdout",
     "output_type": "stream",
     "text": [
      "[ 0.64754951  0.07638752 -0.10140903 -0.31882271 -0.94608099 -0.82395151\n",
      "  0.20424368 -0.52439884  0.20653572]\n",
      "0.45364247284159076 with 6  Neuron \n"
     ]
    },
    {
     "name": "stderr",
     "output_type": "stream",
     "text": [
      "pyswarms.single.global_best: 100%|██████████████████████████████████████████████████████████████|50/50, best_cost=0.212\n",
      "2020-10-30 22:02:42,055 - pyswarms.single.global_best - INFO - Optimization finished | best cost: 0.21209841325265055, best pos: [-0.36932923 -0.3133338  -0.69198421 -0.20990831  0.50115455 -0.30111297\n",
      "  0.06801675 -0.65053353  0.01535187]\n",
      "2020-10-30 22:02:42,065 - pyswarms.single.global_best - INFO - Optimize for 50 iters with {'c1': 0.5, 'c2': 0.3, 'w': 0.9}\n",
      "pyswarms.single.global_best:  36%|██████████████████████▎                                       |18/50, best_cost=0.207"
     ]
    },
    {
     "name": "stdout",
     "output_type": "stream",
     "text": [
      "[-0.36932923 -0.3133338  -0.69198421 -0.20990831  0.50115455 -0.30111297\n",
      "  0.06801675 -0.65053353  0.01535187]\n",
      "0.45298840411497093 with 7  Neuron \n"
     ]
    },
    {
     "name": "stderr",
     "output_type": "stream",
     "text": [
      "pyswarms.single.global_best: 100%|██████████████████████████████████████████████████████████████|50/50, best_cost=0.207\n",
      "2020-10-30 22:02:42,362 - pyswarms.single.global_best - INFO - Optimization finished | best cost: 0.20692385288777554, best pos: [ 0.47232853 -0.63715023  0.72111647  0.84548997  0.97089818  0.46756097\n",
      " -0.53625536  0.95875317 -0.55684406]\n",
      "2020-10-30 22:02:42,374 - pyswarms.single.global_best - INFO - Optimize for 50 iters with {'c1': 0.5, 'c2': 0.3, 'w': 0.9}\n",
      "pyswarms.single.global_best:  36%|██████████████████████▎                                       |18/50, best_cost=0.382"
     ]
    },
    {
     "name": "stdout",
     "output_type": "stream",
     "text": [
      "[ 0.47232853 -0.63715023  0.72111647  0.84548997  0.97089818  0.46756097\n",
      " -0.53625536  0.95875317 -0.55684406]\n",
      "0.2657276901476472 with 8  Neuron \n"
     ]
    },
    {
     "name": "stderr",
     "output_type": "stream",
     "text": [
      "pyswarms.single.global_best: 100%|██████████████████████████████████████████████████████████████|50/50, best_cost=0.372\n",
      "2020-10-30 22:02:42,676 - pyswarms.single.global_best - INFO - Optimization finished | best cost: 0.37239270845141437, best pos: [-0.13293143 -0.93261831  0.72448423  0.26901806 -0.30938034 -0.7479641\n",
      " -0.23196537 -0.7816018  -0.5107718 ]\n",
      "2020-10-30 22:02:42,688 - pyswarms.single.global_best - INFO - Optimize for 50 iters with {'c1': 0.5, 'c2': 0.3, 'w': 0.9}\n",
      "pyswarms.single.global_best:  34%|█████████████████████                                         |17/50, best_cost=0.392"
     ]
    },
    {
     "name": "stdout",
     "output_type": "stream",
     "text": [
      "[-0.13293143 -0.93261831  0.72448423  0.26901806 -0.30938034 -0.7479641\n",
      " -0.23196537 -0.7816018  -0.5107718 ]\n",
      "0.45298840411497093 with 9  Neuron \n"
     ]
    },
    {
     "name": "stderr",
     "output_type": "stream",
     "text": [
      "pyswarms.single.global_best: 100%|██████████████████████████████████████████████████████████████|50/50, best_cost=0.375\n",
      "2020-10-30 22:02:43,023 - pyswarms.single.global_best - INFO - Optimization finished | best cost: 0.3754519678188084, best pos: [-0.55785016  0.56417514  0.58957993  0.2688383  -0.73715879  0.10668842\n",
      "  0.14467538  0.83696637  0.33362569]\n",
      "2020-10-30 22:02:43,040 - pyswarms.single.global_best - INFO - Optimize for 50 iters with {'c1': 0.5, 'c2': 0.3, 'w': 0.9}\n",
      "pyswarms.single.global_best:  32%|███████████████████▊                                          |16/50, best_cost=0.395"
     ]
    },
    {
     "name": "stdout",
     "output_type": "stream",
     "text": [
      "[-0.55785016  0.56417514  0.58957993  0.2688383  -0.73715879  0.10668842\n",
      "  0.14467538  0.83696637  0.33362569]\n",
      "0.505277420327198 with 10  Neuron \n"
     ]
    },
    {
     "name": "stderr",
     "output_type": "stream",
     "text": [
      "pyswarms.single.global_best: 100%|██████████████████████████████████████████████████████████████|50/50, best_cost=0.382\n",
      "2020-10-30 22:02:43,375 - pyswarms.single.global_best - INFO - Optimization finished | best cost: 0.38224358315404905, best pos: [-0.10373958  0.14040155 -0.01618748 -0.20385553 -0.62837739  0.20872244\n",
      "  0.66415534  0.77237805  0.22010748]\n",
      "2020-10-30 22:02:43,391 - pyswarms.single.global_best - INFO - Optimize for 50 iters with {'c1': 0.5, 'c2': 0.3, 'w': 0.9}\n",
      "pyswarms.single.global_best:  28%|█████████████████▎                                            |14/50, best_cost=0.331"
     ]
    },
    {
     "name": "stdout",
     "output_type": "stream",
     "text": [
      "[-0.10373958  0.14040155 -0.01618748 -0.20385553 -0.62837739  0.20872244\n",
      "  0.66415534  0.77237805  0.22010748]\n",
      "0.4281493310406408 with 11  Neuron \n"
     ]
    },
    {
     "name": "stderr",
     "output_type": "stream",
     "text": [
      "pyswarms.single.global_best: 100%|██████████████████████████████████████████████████████████████|50/50, best_cost=0.331\n",
      "2020-10-30 22:02:43,773 - pyswarms.single.global_best - INFO - Optimization finished | best cost: 0.3313384468607611, best pos: [0.00184292 0.91848331 0.60774512 0.06757208 0.52058286 0.26227973\n",
      " 0.8043446  0.07433328 0.21882779]\n",
      "2020-10-30 22:02:43,786 - pyswarms.single.global_best - INFO - Optimize for 50 iters with {'c1': 0.5, 'c2': 0.3, 'w': 0.9}\n",
      "pyswarms.single.global_best:  30%|██████████████████▌                                           |15/50, best_cost=0.402"
     ]
    },
    {
     "name": "stdout",
     "output_type": "stream",
     "text": [
      "[0.00184292 0.91848331 0.60774512 0.06757208 0.52058286 0.26227973\n",
      " 0.8043446  0.07433328 0.21882779]\n",
      "0.42278782840457635 with 12  Neuron \n"
     ]
    },
    {
     "name": "stderr",
     "output_type": "stream",
     "text": [
      "pyswarms.single.global_best: 100%|██████████████████████████████████████████████████████████████|50/50, best_cost=0.395\n",
      "2020-10-30 22:02:44,175 - pyswarms.single.global_best - INFO - Optimization finished | best cost: 0.39501946040405633, best pos: [ 0.92499365  0.00652414  0.01948442  0.0771684   0.59261386  0.22133258\n",
      "  0.5810754  -0.62154789  0.25274526]\n",
      "2020-10-30 22:02:44,188 - pyswarms.single.global_best - INFO - Optimize for 50 iters with {'c1': 0.5, 'c2': 0.3, 'w': 0.9}\n",
      "pyswarms.single.global_best:  34%|█████████████████████                                         |17/50, best_cost=0.423"
     ]
    },
    {
     "name": "stdout",
     "output_type": "stream",
     "text": [
      "[ 0.92499365  0.00652414  0.01948442  0.0771684   0.59261386  0.22133258\n",
      "  0.5810754  -0.62154789  0.25274526]\n",
      "0.42078734109399124 with 13  Neuron \n"
     ]
    },
    {
     "name": "stderr",
     "output_type": "stream",
     "text": [
      "pyswarms.single.global_best: 100%|██████████████████████████████████████████████████████████████|50/50, best_cost=0.423\n",
      "2020-10-30 22:02:44,507 - pyswarms.single.global_best - INFO - Optimization finished | best cost: 0.4227646410178939, best pos: [-0.88824103  0.61189458  0.75575011  0.15570277  0.10062004  0.94101642\n",
      " -0.34596992  0.50826365  0.0469956 ]\n",
      "2020-10-30 22:02:44,518 - pyswarms.single.global_best - INFO - Optimize for 50 iters with {'c1': 0.5, 'c2': 0.3, 'w': 0.9}\n",
      "pyswarms.single.global_best:  32%|███████████████████▊                                          |16/50, best_cost=0.354"
     ]
    },
    {
     "name": "stdout",
     "output_type": "stream",
     "text": [
      "[-0.88824103  0.61189458  0.75575011  0.15570277  0.10062004  0.94101642\n",
      " -0.34596992  0.50826365  0.0469956 ]\n",
      "0.5110333895850917 with 14  Neuron \n"
     ]
    },
    {
     "name": "stderr",
     "output_type": "stream",
     "text": [
      "pyswarms.single.global_best: 100%|██████████████████████████████████████████████████████████████|50/50, best_cost=0.354\n",
      "2020-10-30 22:02:44,840 - pyswarms.single.global_best - INFO - Optimization finished | best cost: 0.3539255186713891, best pos: [ 0.15280895  0.46466163 -0.94361899  0.51123665 -0.42902773 -0.59691279\n",
      "  0.39994686 -0.44787001 -0.31739605]\n",
      "2020-10-30 22:02:44,852 - pyswarms.single.global_best - INFO - Optimize for 50 iters with {'c1': 0.5, 'c2': 0.3, 'w': 0.9}\n",
      "pyswarms.single.global_best:  32%|███████████████████▊                                          |16/50, best_cost=0.372"
     ]
    },
    {
     "name": "stdout",
     "output_type": "stream",
     "text": [
      "[ 0.15280895  0.46466163 -0.94361899  0.51123665 -0.42902773 -0.59691279\n",
      "  0.39994686 -0.44787001 -0.31739605]\n",
      "0.45427056358286394 with 15  Neuron \n"
     ]
    },
    {
     "name": "stderr",
     "output_type": "stream",
     "text": [
      "pyswarms.single.global_best: 100%|██████████████████████████████████████████████████████████████|50/50, best_cost=0.372\n",
      "2020-10-30 22:02:45,168 - pyswarms.single.global_best - INFO - Optimization finished | best cost: 0.3717733357271424, best pos: [ 0.11587772  0.31762687 -0.36467853  0.6766787   0.6025648  -0.89634236\n",
      " -0.47079046 -0.20793457  0.96235174]\n",
      "2020-10-30 22:02:45,180 - pyswarms.single.global_best - INFO - Optimize for 50 iters with {'c1': 0.5, 'c2': 0.3, 'w': 0.9}\n",
      "pyswarms.single.global_best:  32%|███████████████████▊                                          |16/50, best_cost=0.394"
     ]
    },
    {
     "name": "stdout",
     "output_type": "stream",
     "text": [
      "[ 0.11587772  0.31762687 -0.36467853  0.6766787   0.6025648  -0.89634236\n",
      " -0.47079046 -0.20793457  0.96235174]\n",
      "0.4580047059146955 with 16  Neuron \n"
     ]
    },
    {
     "name": "stderr",
     "output_type": "stream",
     "text": [
      "pyswarms.single.global_best: 100%|██████████████████████████████████████████████████████████████|50/50, best_cost=0.385\n",
      "2020-10-30 22:02:45,493 - pyswarms.single.global_best - INFO - Optimization finished | best cost: 0.38474615587797084, best pos: [-0.5228362  -0.05046581 -0.61997774 -0.541295   -0.04010865 -0.09142829\n",
      "  0.54765862  0.94494234  0.15093844]\n",
      "2020-10-30 22:02:45,505 - pyswarms.single.global_best - INFO - Optimize for 50 iters with {'c1': 0.5, 'c2': 0.3, 'w': 0.9}\n",
      "pyswarms.single.global_best:  36%|██████████████████████▎                                       |18/50, best_cost=0.437"
     ]
    },
    {
     "name": "stdout",
     "output_type": "stream",
     "text": [
      "[-0.5228362  -0.05046581 -0.61997774 -0.541295   -0.04010865 -0.09142829\n",
      "  0.54765862  0.94494234  0.15093844]\n",
      "0.4217353157329687 with 17  Neuron \n"
     ]
    },
    {
     "name": "stderr",
     "output_type": "stream",
     "text": [
      "pyswarms.single.global_best: 100%|██████████████████████████████████████████████████████████████|50/50, best_cost=0.435\n",
      "2020-10-30 22:02:45,808 - pyswarms.single.global_best - INFO - Optimization finished | best cost: 0.43496821153978504, best pos: [-0.05921354 -0.04638522  0.19105752  0.32381809  0.20085224 -0.75288083\n",
      " -0.16268157  0.99096167 -0.23528601]\n",
      "2020-10-30 22:02:45,818 - pyswarms.single.global_best - INFO - Optimize for 50 iters with {'c1': 0.5, 'c2': 0.3, 'w': 0.9}\n",
      "pyswarms.single.global_best:  34%|█████████████████████                                         |17/50, best_cost=0.401"
     ]
    },
    {
     "name": "stdout",
     "output_type": "stream",
     "text": [
      "[-0.05921354 -0.04638522  0.19105752  0.32381809  0.20085224 -0.75288083\n",
      " -0.16268157  0.99096167 -0.23528601]\n",
      "0.45534775335473604 with 18  Neuron \n"
     ]
    },
    {
     "name": "stderr",
     "output_type": "stream",
     "text": [
      "pyswarms.single.global_best: 100%|██████████████████████████████████████████████████████████████|50/50, best_cost=0.401\n",
      "2020-10-30 22:02:46,128 - pyswarms.single.global_best - INFO - Optimization finished | best cost: 0.40081963867445713, best pos: [ 0.81375338  0.38452979 -0.57740213  0.22647946  0.8874637  -0.25414522\n",
      " -0.72431554  0.3886159   0.07621042]\n",
      "2020-10-30 22:02:46,139 - pyswarms.single.global_best - INFO - Optimize for 50 iters with {'c1': 0.5, 'c2': 0.3, 'w': 0.9}\n",
      "pyswarms.single.global_best:  34%|█████████████████████                                         |17/50, best_cost=0.388"
     ]
    },
    {
     "name": "stdout",
     "output_type": "stream",
     "text": [
      "[ 0.81375338  0.38452979 -0.57740213  0.22647946  0.8874637  -0.25414522\n",
      " -0.72431554  0.3886159   0.07621042]\n",
      "0.47524831116576516 with 19  Neuron \n"
     ]
    },
    {
     "name": "stderr",
     "output_type": "stream",
     "text": [
      "pyswarms.single.global_best: 100%|██████████████████████████████████████████████████████████████|50/50, best_cost=0.388\n",
      "2020-10-30 22:02:46,460 - pyswarms.single.global_best - INFO - Optimization finished | best cost: 0.38756262265213526, best pos: [-0.11081391  0.11312379  0.219152    0.29227116  0.21384936  0.26609092\n",
      "  0.64357328 -0.27595752 -0.29382293]\n",
      "2020-10-30 22:02:46,470 - pyswarms.single.global_best - INFO - Optimize for 50 iters with {'c1': 0.5, 'c2': 0.3, 'w': 0.9}\n",
      "pyswarms.single.global_best:  32%|███████████████████▊                                          |16/50, best_cost=0.429"
     ]
    },
    {
     "name": "stdout",
     "output_type": "stream",
     "text": [
      "[-0.11081391  0.11312379  0.219152    0.29227116  0.21384936  0.26609092\n",
      "  0.64357328 -0.27595752 -0.29382293]\n",
      "0.41019516865560857 with 20  Neuron \n"
     ]
    },
    {
     "name": "stderr",
     "output_type": "stream",
     "text": [
      "pyswarms.single.global_best: 100%|██████████████████████████████████████████████████████████████|50/50, best_cost=0.427\n",
      "2020-10-30 22:02:46,796 - pyswarms.single.global_best - INFO - Optimization finished | best cost: 0.42715023725786005, best pos: [-0.24522231 -0.39048604  0.42400304 -0.12415162 -0.30704292  0.71513611\n",
      " -0.30107604 -0.07052459  0.5107972 ]\n",
      "2020-10-30 22:02:46,806 - pyswarms.single.global_best - INFO - Optimize for 50 iters with {'c1': 0.5, 'c2': 0.3, 'w': 0.9}\n",
      "pyswarms.single.global_best:  34%|█████████████████████                                         |17/50, best_cost=0.376"
     ]
    },
    {
     "name": "stdout",
     "output_type": "stream",
     "text": [
      "[-0.24522231 -0.39048604  0.42400304 -0.12415162 -0.30704292  0.71513611\n",
      " -0.30107604 -0.07052459  0.5107972 ]\n",
      "0.5035061328682183 with 21  Neuron \n"
     ]
    },
    {
     "name": "stderr",
     "output_type": "stream",
     "text": [
      "pyswarms.single.global_best: 100%|██████████████████████████████████████████████████████████████|50/50, best_cost=0.376\n",
      "2020-10-30 22:02:47,123 - pyswarms.single.global_best - INFO - Optimization finished | best cost: 0.37610167751392376, best pos: [-0.29109469 -0.35104246 -0.75142559 -0.88520329 -0.47223611 -0.49428394\n",
      "  0.9159617  -0.93752817 -0.66702555]\n",
      "2020-10-30 22:02:47,133 - pyswarms.single.global_best - INFO - Optimize for 50 iters with {'c1': 0.5, 'c2': 0.3, 'w': 0.9}\n",
      "pyswarms.single.global_best:  32%|███████████████████▊                                          |16/50, best_cost=0.367"
     ]
    },
    {
     "name": "stdout",
     "output_type": "stream",
     "text": [
      "[-0.29109469 -0.35104246 -0.75142559 -0.88520329 -0.47223611 -0.49428394\n",
      "  0.9159617  -0.93752817 -0.66702555]\n",
      "0.45298840411497093 with 22  Neuron \n"
     ]
    },
    {
     "name": "stderr",
     "output_type": "stream",
     "text": [
      "pyswarms.single.global_best: 100%|██████████████████████████████████████████████████████████████|50/50, best_cost=0.367\n",
      "2020-10-30 22:02:47,468 - pyswarms.single.global_best - INFO - Optimization finished | best cost: 0.36682431276942434, best pos: [ 0.01147836  0.02861879  0.51721572  0.29912757  0.63799779 -0.37115651\n",
      "  0.00419631 -0.21306663 -0.8606941 ]\n",
      "2020-10-30 22:02:47,477 - pyswarms.single.global_best - INFO - Optimize for 50 iters with {'c1': 0.5, 'c2': 0.3, 'w': 0.9}\n",
      "pyswarms.single.global_best:  32%|████████████████████▏                                          |16/50, best_cost=0.39"
     ]
    },
    {
     "name": "stdout",
     "output_type": "stream",
     "text": [
      "[ 0.01147836  0.02861879  0.51721572  0.29912757  0.63799779 -0.37115651\n",
      "  0.00419631 -0.21306663 -0.8606941 ]\n",
      "0.4331791767375511 with 23  Neuron \n"
     ]
    },
    {
     "name": "stderr",
     "output_type": "stream",
     "text": [
      "pyswarms.single.global_best: 100%|██████████████████████████████████████████████████████████████|50/50, best_cost=0.381\n",
      "2020-10-30 22:02:47,818 - pyswarms.single.global_best - INFO - Optimization finished | best cost: 0.38120346333995087, best pos: [ 0.92440131  0.82479814  0.68259044 -0.35446561  0.05747716  0.06665265\n",
      "  0.69882426  0.45787489 -0.66042587]\n",
      "2020-10-30 22:02:47,829 - pyswarms.single.global_best - INFO - Optimize for 50 iters with {'c1': 0.5, 'c2': 0.3, 'w': 0.9}\n",
      "pyswarms.single.global_best:  32%|███████████████████▊                                          |16/50, best_cost=0.428"
     ]
    },
    {
     "name": "stdout",
     "output_type": "stream",
     "text": [
      "[ 0.92440131  0.82479814  0.68259044 -0.35446561  0.05747716  0.06665265\n",
      "  0.69882426  0.45787489 -0.66042587]\n",
      "0.4128792138557055 with 24  Neuron \n"
     ]
    },
    {
     "name": "stderr",
     "output_type": "stream",
     "text": [
      "pyswarms.single.global_best: 100%|██████████████████████████████████████████████████████████████|50/50, best_cost=0.428\n",
      "2020-10-30 22:02:48,160 - pyswarms.single.global_best - INFO - Optimization finished | best cost: 0.42769116850929656, best pos: [ 0.07789136 -0.06482388 -0.01155009  0.8206893   0.61795134  0.15069593\n",
      " -0.5782343  -0.35796329  0.71206606]\n",
      "2020-10-30 22:02:48,172 - pyswarms.single.global_best - INFO - Optimize for 50 iters with {'c1': 0.5, 'c2': 0.3, 'w': 0.9}\n",
      "pyswarms.single.global_best:  34%|█████████████████████                                         |17/50, best_cost=0.426"
     ]
    },
    {
     "name": "stdout",
     "output_type": "stream",
     "text": [
      "[ 0.07789136 -0.06482388 -0.01155009  0.8206893   0.61795134  0.15069593\n",
      " -0.5782343  -0.35796329  0.71206606]\n",
      "0.49544226204694675 with 25  Neuron \n"
     ]
    },
    {
     "name": "stderr",
     "output_type": "stream",
     "text": [
      "pyswarms.single.global_best: 100%|██████████████████████████████████████████████████████████████|50/50, best_cost=0.415\n",
      "2020-10-30 22:02:48,482 - pyswarms.single.global_best - INFO - Optimization finished | best cost: 0.4151198872272343, best pos: [-0.23798622 -0.58719199 -0.0316262   0.55932201  0.19803011  0.85486357\n",
      " -0.24204694  0.041625   -0.21751945]\n",
      "2020-10-30 22:02:48,494 - pyswarms.single.global_best - INFO - Optimize for 50 iters with {'c1': 0.5, 'c2': 0.3, 'w': 0.9}\n",
      "pyswarms.single.global_best:  30%|██████████████████▌                                           |15/50, best_cost=0.394"
     ]
    },
    {
     "name": "stdout",
     "output_type": "stream",
     "text": [
      "[-0.23798622 -0.58719199 -0.0316262   0.55932201  0.19803011  0.85486357\n",
      " -0.24204694  0.041625   -0.21751945]\n",
      "0.4564632270989816 with 26  Neuron \n"
     ]
    },
    {
     "name": "stderr",
     "output_type": "stream",
     "text": [
      "pyswarms.single.global_best: 100%|██████████████████████████████████████████████████████████████|50/50, best_cost=0.385\n",
      "2020-10-30 22:02:48,860 - pyswarms.single.global_best - INFO - Optimization finished | best cost: 0.38451061780620865, best pos: [ 0.99145576  0.13580041 -0.36979932  0.9126003   0.52454289  0.66976538\n",
      "  0.23000195  0.70000666  0.51632764]\n",
      "2020-10-30 22:02:48,870 - pyswarms.single.global_best - INFO - Optimize for 50 iters with {'c1': 0.5, 'c2': 0.3, 'w': 0.9}\n",
      "pyswarms.single.global_best:  30%|██████████████████▉                                            |15/50, best_cost=0.42"
     ]
    },
    {
     "name": "stdout",
     "output_type": "stream",
     "text": [
      "[ 0.99145576  0.13580041 -0.36979932  0.9126003   0.52454289  0.66976538\n",
      "  0.23000195  0.70000666  0.51632764]\n",
      "0.44182787433923476 with 27  Neuron \n"
     ]
    },
    {
     "name": "stderr",
     "output_type": "stream",
     "text": [
      "pyswarms.single.global_best: 100%|███████████████████████████████████████████████████████████████|50/50, best_cost=0.41\n",
      "2020-10-30 22:02:49,207 - pyswarms.single.global_best - INFO - Optimization finished | best cost: 0.41033056004040924, best pos: [-1.66197693e-04 -5.31432317e-02 -1.95930814e-02 -4.83796824e-02\n",
      "  5.50178572e-01  6.10208615e-02 -5.84523463e-01  3.28862134e-01\n",
      "  4.77432576e-01]\n",
      "2020-10-30 22:02:49,219 - pyswarms.single.global_best - INFO - Optimize for 50 iters with {'c1': 0.5, 'c2': 0.3, 'w': 0.9}\n",
      "pyswarms.single.global_best:  32%|███████████████████▊                                          |16/50, best_cost=0.399"
     ]
    },
    {
     "name": "stdout",
     "output_type": "stream",
     "text": [
      "[-1.66197693e-04 -5.31432317e-02 -1.95930814e-02 -4.83796824e-02\n",
      "  5.50178572e-01  6.10208615e-02 -5.84523463e-01  3.28862134e-01\n",
      "  4.77432576e-01]\n",
      "0.44428719384022625 with 28  Neuron \n"
     ]
    },
    {
     "name": "stderr",
     "output_type": "stream",
     "text": [
      "pyswarms.single.global_best: 100%|██████████████████████████████████████████████████████████████|50/50, best_cost=0.399\n",
      "2020-10-30 22:02:49,542 - pyswarms.single.global_best - INFO - Optimization finished | best cost: 0.399436459788602, best pos: [-0.10136098 -0.28451406 -0.54439668 -0.9458406  -0.09870818 -0.50145833\n",
      " -0.86075641  0.38600116  0.63138927]\n",
      "2020-10-30 22:02:49,553 - pyswarms.single.global_best - INFO - Optimize for 50 iters with {'c1': 0.5, 'c2': 0.3, 'w': 0.9}\n",
      "pyswarms.single.global_best:  30%|██████████████████▌                                           |15/50, best_cost=0.406"
     ]
    },
    {
     "name": "stdout",
     "output_type": "stream",
     "text": [
      "[-0.10136098 -0.28451406 -0.54439668 -0.9458406  -0.09870818 -0.50145833\n",
      " -0.86075641  0.38600116  0.63138927]\n",
      "0.46333534716611513 with 29  Neuron \n"
     ]
    },
    {
     "name": "stderr",
     "output_type": "stream",
     "text": [
      "pyswarms.single.global_best: 100%|██████████████████████████████████████████████████████████████|50/50, best_cost=0.395\n",
      "2020-10-30 22:02:49,912 - pyswarms.single.global_best - INFO - Optimization finished | best cost: 0.39463026651719546, best pos: [ 0.36449512  0.63659782  0.72443311  0.71642804 -0.47553718  0.02372473\n",
      "  0.87860548 -0.60416117 -0.3266348 ]\n",
      "2020-10-30 22:02:49,922 - pyswarms.single.global_best - INFO - Optimize for 50 iters with {'c1': 0.5, 'c2': 0.3, 'w': 0.9}\n",
      "pyswarms.single.global_best:  32%|███████████████████▊                                          |16/50, best_cost=0.423"
     ]
    },
    {
     "name": "stdout",
     "output_type": "stream",
     "text": [
      "[ 0.36449512  0.63659782  0.72443311  0.71642804 -0.47553718  0.02372473\n",
      "  0.87860548 -0.60416117 -0.3266348 ]\n",
      "0.4579619065320115 with 30  Neuron \n"
     ]
    },
    {
     "name": "stderr",
     "output_type": "stream",
     "text": [
      "pyswarms.single.global_best: 100%|██████████████████████████████████████████████████████████████|50/50, best_cost=0.423\n",
      "2020-10-30 22:02:50,282 - pyswarms.single.global_best - INFO - Optimization finished | best cost: 0.42309703768237295, best pos: [-0.00702799 -0.24355385 -0.62977953 -0.22507099  0.63891597  0.62976955\n",
      "  0.82019457 -0.50847604 -0.3255033 ]\n",
      "2020-10-30 22:02:50,293 - pyswarms.single.global_best - INFO - Optimize for 50 iters with {'c1': 0.5, 'c2': 0.3, 'w': 0.9}\n",
      "pyswarms.single.global_best:  32%|███████████████████▊                                          |16/50, best_cost=0.427"
     ]
    },
    {
     "name": "stdout",
     "output_type": "stream",
     "text": [
      "[-0.00702799 -0.24355385 -0.62977953 -0.22507099  0.63891597  0.62976955\n",
      "  0.82019457 -0.50847604 -0.3255033 ]\n",
      "0.4187167065721782 with 31  Neuron \n"
     ]
    },
    {
     "name": "stderr",
     "output_type": "stream",
     "text": [
      "pyswarms.single.global_best: 100%|██████████████████████████████████████████████████████████████|50/50, best_cost=0.427\n",
      "2020-10-30 22:02:50,644 - pyswarms.single.global_best - INFO - Optimization finished | best cost: 0.4267784389356589, best pos: [ 0.96853659  0.99362495 -0.75281728 -0.30779561  0.5450615   0.08509106\n",
      "  0.24062705  0.82969229  0.05374352]\n",
      "2020-10-30 22:02:50,656 - pyswarms.single.global_best - INFO - Optimize for 50 iters with {'c1': 0.5, 'c2': 0.3, 'w': 0.9}\n",
      "pyswarms.single.global_best:  28%|█████████████████▋                                             |14/50, best_cost=0.42"
     ]
    },
    {
     "name": "stdout",
     "output_type": "stream",
     "text": [
      "[ 0.96853659  0.99362495 -0.75281728 -0.30779561  0.5450615   0.08509106\n",
      "  0.24062705  0.82969229  0.05374352]\n",
      "0.4672113904790225 with 32  Neuron \n"
     ]
    },
    {
     "name": "stderr",
     "output_type": "stream",
     "text": [
      "pyswarms.single.global_best: 100%|██████████████████████████████████████████████████████████████|50/50, best_cost=0.405\n",
      "2020-10-30 22:02:51,009 - pyswarms.single.global_best - INFO - Optimization finished | best cost: 0.4047791850702414, best pos: [ 0.22292915 -0.46661425  0.37307013  0.59995328 -0.36473025 -0.21743957\n",
      " -0.40406079  0.41451433 -0.51433928]\n",
      "2020-10-30 22:02:51,023 - pyswarms.single.global_best - INFO - Optimize for 50 iters with {'c1': 0.5, 'c2': 0.3, 'w': 0.9}\n",
      "pyswarms.single.global_best:  26%|████████████████                                              |13/50, best_cost=0.421"
     ]
    },
    {
     "name": "stdout",
     "output_type": "stream",
     "text": [
      "[ 0.22292915 -0.46661425  0.37307013  0.59995328 -0.36473025 -0.21743957\n",
      " -0.40406079  0.41451433 -0.51433928]\n",
      "0.45471504751914804 with 33  Neuron \n"
     ]
    },
    {
     "name": "stderr",
     "output_type": "stream",
     "text": [
      "pyswarms.single.global_best: 100%|██████████████████████████████████████████████████████████████|50/50, best_cost=0.421\n",
      "2020-10-30 22:02:51,410 - pyswarms.single.global_best - INFO - Optimization finished | best cost: 0.42096979202967216, best pos: [-6.41403584e-01 -4.45365764e-01 -2.86460382e-01 -8.61458352e-01\n",
      " -3.45087148e-01 -3.16306394e-01 -6.55025498e-01 -5.87954791e-01\n",
      " -6.60902314e-04]\n",
      "2020-10-30 22:02:51,423 - pyswarms.single.global_best - INFO - Optimize for 50 iters with {'c1': 0.5, 'c2': 0.3, 'w': 0.9}\n",
      "pyswarms.single.global_best:  28%|█████████████████▎                                            |14/50, best_cost=0.415"
     ]
    },
    {
     "name": "stdout",
     "output_type": "stream",
     "text": [
      "[-6.41403584e-01 -4.45365764e-01 -2.86460382e-01 -8.61458352e-01\n",
      " -3.45087148e-01 -3.16306394e-01 -6.55025498e-01 -5.87954791e-01\n",
      " -6.60902314e-04]\n",
      "0.45298840411497093 with 34  Neuron \n"
     ]
    },
    {
     "name": "stderr",
     "output_type": "stream",
     "text": [
      "pyswarms.single.global_best: 100%|██████████████████████████████████████████████████████████████|50/50, best_cost=0.415\n",
      "2020-10-30 22:02:51,801 - pyswarms.single.global_best - INFO - Optimization finished | best cost: 0.4148488573002282, best pos: [ 0.93436766 -0.37841112  0.65063249  0.75716183 -0.36317727 -0.88084172\n",
      "  0.75298823  0.1432211   0.46452043]\n",
      "2020-10-30 22:02:51,813 - pyswarms.single.global_best - INFO - Optimize for 50 iters with {'c1': 0.5, 'c2': 0.3, 'w': 0.9}\n",
      "pyswarms.single.global_best:  28%|█████████████████▎                                            |14/50, best_cost=0.421"
     ]
    },
    {
     "name": "stdout",
     "output_type": "stream",
     "text": [
      "[ 0.93436766 -0.37841112  0.65063249  0.75716183 -0.36317727 -0.88084172\n",
      "  0.75298823  0.1432211   0.46452043]\n",
      "0.4486328262748267 with 35  Neuron \n"
     ]
    },
    {
     "name": "stderr",
     "output_type": "stream",
     "text": [
      "pyswarms.single.global_best: 100%|██████████████████████████████████████████████████████████████|50/50, best_cost=0.418\n",
      "2020-10-30 22:02:52,212 - pyswarms.single.global_best - INFO - Optimization finished | best cost: 0.41771913817462347, best pos: [ 0.42385797  0.94645493  0.41405433 -0.64272635  0.41759998 -0.65824965\n",
      "  0.32354052 -0.39388026 -0.64399667]\n",
      "2020-10-30 22:02:52,224 - pyswarms.single.global_best - INFO - Optimize for 50 iters with {'c1': 0.5, 'c2': 0.3, 'w': 0.9}\n",
      "pyswarms.single.global_best:  28%|█████████████████▎                                            |14/50, best_cost=0.439"
     ]
    },
    {
     "name": "stdout",
     "output_type": "stream",
     "text": [
      "[ 0.42385797  0.94645493  0.41405433 -0.64272635  0.41759998 -0.65824965\n",
      "  0.32354052 -0.39388026 -0.64399667]\n",
      "0.4299202304032346 with 36  Neuron \n"
     ]
    },
    {
     "name": "stderr",
     "output_type": "stream",
     "text": [
      "pyswarms.single.global_best: 100%|██████████████████████████████████████████████████████████████|50/50, best_cost=0.439\n",
      "2020-10-30 22:02:52,607 - pyswarms.single.global_best - INFO - Optimization finished | best cost: 0.4394509170035954, best pos: [-0.88120783 -0.23236168 -0.50171396 -0.86355458  0.35560601 -0.87196574\n",
      " -0.31752115 -0.84430195 -0.66168926]\n",
      "2020-10-30 22:02:52,621 - pyswarms.single.global_best - INFO - Optimize for 50 iters with {'c1': 0.5, 'c2': 0.3, 'w': 0.9}\n",
      "pyswarms.single.global_best:  28%|█████████████████▎                                            |14/50, best_cost=0.434"
     ]
    },
    {
     "name": "stdout",
     "output_type": "stream",
     "text": [
      "[-0.88120783 -0.23236168 -0.50171396 -0.86355458  0.35560601 -0.87196574\n",
      " -0.31752115 -0.84430195 -0.66168926]\n",
      "0.45298840411497093 with 37  Neuron \n"
     ]
    },
    {
     "name": "stderr",
     "output_type": "stream",
     "text": [
      "pyswarms.single.global_best: 100%|██████████████████████████████████████████████████████████████|50/50, best_cost=0.434\n",
      "2020-10-30 22:02:53,008 - pyswarms.single.global_best - INFO - Optimization finished | best cost: 0.43401360738334366, best pos: [ 0.49070802 -0.48190824  0.09438603  0.80898845 -0.91961067  0.41822641\n",
      " -0.02112913 -0.19989897 -0.28731646]\n",
      "2020-10-30 22:02:53,024 - pyswarms.single.global_best - INFO - Optimize for 50 iters with {'c1': 0.5, 'c2': 0.3, 'w': 0.9}\n",
      "pyswarms.single.global_best:  24%|███████████████                                                |12/50, best_cost=0.43"
     ]
    },
    {
     "name": "stdout",
     "output_type": "stream",
     "text": [
      "[ 0.49070802 -0.48190824  0.09438603  0.80898845 -0.91961067  0.41822641\n",
      " -0.02112913 -0.19989897 -0.28731646]\n",
      "0.46196742257592543 with 38  Neuron \n"
     ]
    },
    {
     "name": "stderr",
     "output_type": "stream",
     "text": [
      "pyswarms.single.global_best: 100%|███████████████████████████████████████████████████████████████|50/50, best_cost=0.43\n",
      "2020-10-30 22:02:53,420 - pyswarms.single.global_best - INFO - Optimization finished | best cost: 0.430149752383522, best pos: [ 0.30470358  0.88092368 -0.2866815  -0.19567556 -0.12179217 -0.45952867\n",
      " -0.48242521 -0.2047695  -0.05995347]\n",
      "2020-10-30 22:02:53,433 - pyswarms.single.global_best - INFO - Optimize for 50 iters with {'c1': 0.5, 'c2': 0.3, 'w': 0.9}\n",
      "pyswarms.single.global_best:  28%|█████████████████▎                                            |14/50, best_cost=0.434"
     ]
    },
    {
     "name": "stdout",
     "output_type": "stream",
     "text": [
      "[ 0.30470358  0.88092368 -0.2866815  -0.19567556 -0.12179217 -0.45952867\n",
      " -0.48242521 -0.2047695  -0.05995347]\n",
      "0.4563555694623006 with 39  Neuron \n"
     ]
    },
    {
     "name": "stderr",
     "output_type": "stream",
     "text": [
      "pyswarms.single.global_best: 100%|██████████████████████████████████████████████████████████████|50/50, best_cost=0.425\n",
      "2020-10-30 22:02:53,808 - pyswarms.single.global_best - INFO - Optimization finished | best cost: 0.4248279633842258, best pos: [ 0.01357413  0.43446384  0.4586658   0.46098419 -0.94379873 -0.60039292\n",
      "  0.45637655  0.00130295  0.41578995]\n",
      "2020-10-30 22:02:53,821 - pyswarms.single.global_best - INFO - Optimize for 50 iters with {'c1': 0.5, 'c2': 0.3, 'w': 0.9}\n",
      "pyswarms.single.global_best:  28%|█████████████████▎                                            |14/50, best_cost=0.435"
     ]
    },
    {
     "name": "stdout",
     "output_type": "stream",
     "text": [
      "[ 0.01357413  0.43446384  0.4586658   0.46098419 -0.94379873 -0.60039292\n",
      "  0.45637655  0.00130295  0.41578995]\n",
      "0.4490636033802916 with 40  Neuron \n"
     ]
    },
    {
     "name": "stderr",
     "output_type": "stream",
     "text": [
      "pyswarms.single.global_best: 100%|██████████████████████████████████████████████████████████████|50/50, best_cost=0.435\n",
      "2020-10-30 22:02:54,234 - pyswarms.single.global_best - INFO - Optimization finished | best cost: 0.43536463968602923, best pos: [ 0.71489516 -0.94153683 -0.56220291  0.46004762 -0.00855307 -0.6615412\n",
      " -0.99098974  0.61577461  0.4315391 ]\n",
      "2020-10-30 22:02:54,246 - pyswarms.single.global_best - INFO - Optimize for 50 iters with {'c1': 0.5, 'c2': 0.3, 'w': 0.9}\n",
      "pyswarms.single.global_best:  28%|█████████████████▎                                            |14/50, best_cost=0.438"
     ]
    },
    {
     "name": "stdout",
     "output_type": "stream",
     "text": [
      "[ 0.71489516 -0.94153683 -0.56220291  0.46004762 -0.00855307 -0.6615412\n",
      " -0.99098974  0.61577461  0.4315391 ]\n",
      "0.4690947857302644 with 41  Neuron \n"
     ]
    },
    {
     "name": "stderr",
     "output_type": "stream",
     "text": [
      "pyswarms.single.global_best: 100%|██████████████████████████████████████████████████████████████|50/50, best_cost=0.437\n",
      "2020-10-30 22:02:54,636 - pyswarms.single.global_best - INFO - Optimization finished | best cost: 0.43721385143561153, best pos: [ 0.59726529 -0.21297663  0.95426001  0.31577735 -0.45649831  0.12665203\n",
      " -0.56152182  0.18566606  0.55873104]\n",
      "2020-10-30 22:02:54,649 - pyswarms.single.global_best - INFO - Optimize for 50 iters with {'c1': 0.5, 'c2': 0.3, 'w': 0.9}\n",
      "pyswarms.single.global_best:  28%|█████████████████▎                                            |14/50, best_cost=0.433"
     ]
    },
    {
     "name": "stdout",
     "output_type": "stream",
     "text": [
      "[ 0.59726529 -0.21297663  0.95426001  0.31577735 -0.45649831  0.12665203\n",
      " -0.56152182  0.18566606  0.55873104]\n",
      "0.44385719215645525 with 42  Neuron \n"
     ]
    },
    {
     "name": "stderr",
     "output_type": "stream",
     "text": [
      "pyswarms.single.global_best: 100%|██████████████████████████████████████████████████████████████|50/50, best_cost=0.433\n",
      "2020-10-30 22:02:55,033 - pyswarms.single.global_best - INFO - Optimization finished | best cost: 0.4330682653419012, best pos: [-0.24824078 -0.8482402   0.46898367 -0.68113881 -0.30401119 -0.29711615\n",
      " -0.54420988  0.98194857  0.97396232]\n",
      "2020-10-30 22:02:55,046 - pyswarms.single.global_best - INFO - Optimize for 50 iters with {'c1': 0.5, 'c2': 0.3, 'w': 0.9}\n",
      "pyswarms.single.global_best:  26%|████████████████▍                                              |13/50, best_cost=0.43"
     ]
    },
    {
     "name": "stdout",
     "output_type": "stream",
     "text": [
      "[-0.24824078 -0.8482402   0.46898367 -0.68113881 -0.30401119 -0.29711615\n",
      " -0.54420988  0.98194857  0.97396232]\n",
      "0.4527458753377884 with 43  Neuron \n"
     ]
    },
    {
     "name": "stderr",
     "output_type": "stream",
     "text": [
      "pyswarms.single.global_best: 100%|██████████████████████████████████████████████████████████████|50/50, best_cost=0.414\n",
      "2020-10-30 22:02:55,478 - pyswarms.single.global_best - INFO - Optimization finished | best cost: 0.4143412234330772, best pos: [ 0.77302165  0.39907887 -0.9102929   0.04610524 -0.58674453  0.4456035\n",
      " -0.91181291  0.34139177 -0.38952162]\n",
      "2020-10-30 22:02:55,490 - pyswarms.single.global_best - INFO - Optimize for 50 iters with {'c1': 0.5, 'c2': 0.3, 'w': 0.9}\n",
      "pyswarms.single.global_best:  26%|████████████████                                              |13/50, best_cost=0.435"
     ]
    },
    {
     "name": "stdout",
     "output_type": "stream",
     "text": [
      "[ 0.77302165  0.39907887 -0.9102929   0.04610524 -0.58674453  0.4456035\n",
      " -0.91181291  0.34139177 -0.38952162]\n",
      "0.45339864081223513 with 44  Neuron \n"
     ]
    },
    {
     "name": "stderr",
     "output_type": "stream",
     "text": [
      "pyswarms.single.global_best: 100%|██████████████████████████████████████████████████████████████|50/50, best_cost=0.431\n",
      "2020-10-30 22:02:55,870 - pyswarms.single.global_best - INFO - Optimization finished | best cost: 0.431407977689628, best pos: [ 0.16763655 -0.19006249 -0.56670705  0.624272    0.20890515  0.67037332\n",
      " -0.48609025  0.89143401  0.63387438]\n",
      "2020-10-30 22:02:55,883 - pyswarms.single.global_best - INFO - Optimize for 50 iters with {'c1': 0.5, 'c2': 0.3, 'w': 0.9}\n",
      "pyswarms.single.global_best:  28%|█████████████████▎                                            |14/50, best_cost=0.441"
     ]
    },
    {
     "name": "stdout",
     "output_type": "stream",
     "text": [
      "[ 0.16763655 -0.19006249 -0.56670705  0.624272    0.20890515  0.67037332\n",
      " -0.48609025  0.89143401  0.63387438]\n",
      "0.4522093865176881 with 45  Neuron \n"
     ]
    },
    {
     "name": "stderr",
     "output_type": "stream",
     "text": [
      "pyswarms.single.global_best: 100%|██████████████████████████████████████████████████████████████|50/50, best_cost=0.441\n",
      "2020-10-30 22:02:56,265 - pyswarms.single.global_best - INFO - Optimization finished | best cost: 0.4410935856366479, best pos: [-0.49320539 -0.33943569 -0.51858685  0.62556512 -0.68595738 -0.16822997\n",
      "  0.19542552 -0.38816514  0.17309636]\n",
      "2020-10-30 22:02:56,278 - pyswarms.single.global_best - INFO - Optimize for 50 iters with {'c1': 0.5, 'c2': 0.3, 'w': 0.9}\n",
      "pyswarms.single.global_best:  24%|██████████████▉                                               |12/50, best_cost=0.431"
     ]
    },
    {
     "name": "stdout",
     "output_type": "stream",
     "text": [
      "[-0.49320539 -0.33943569 -0.51858685  0.62556512 -0.68595738 -0.16822997\n",
      "  0.19542552 -0.38816514  0.17309636]\n",
      "0.452143724494629 with 46  Neuron \n"
     ]
    },
    {
     "name": "stderr",
     "output_type": "stream",
     "text": [
      "pyswarms.single.global_best: 100%|███████████████████████████████████████████████████████████████|50/50, best_cost=0.43\n",
      "2020-10-30 22:02:56,672 - pyswarms.single.global_best - INFO - Optimization finished | best cost: 0.43028319916019336, best pos: [-0.1979332  -0.71756538 -0.16172461 -0.09518912 -0.13436896  0.02460151\n",
      " -0.78105298  0.13618628 -0.20252814]\n",
      "2020-10-30 22:02:56,686 - pyswarms.single.global_best - INFO - Optimize for 50 iters with {'c1': 0.5, 'c2': 0.3, 'w': 0.9}\n",
      "pyswarms.single.global_best:  30%|██████████████████▌                                           |15/50, best_cost=0.427"
     ]
    },
    {
     "name": "stdout",
     "output_type": "stream",
     "text": [
      "[-0.1979332  -0.71756538 -0.16172461 -0.09518912 -0.13436896  0.02460151\n",
      " -0.78105298  0.13618628 -0.20252814]\n",
      "0.45298840411497093 with 47  Neuron \n"
     ]
    },
    {
     "name": "stderr",
     "output_type": "stream",
     "text": [
      "pyswarms.single.global_best: 100%|██████████████████████████████████████████████████████████████|50/50, best_cost=0.427\n",
      "2020-10-30 22:02:57,066 - pyswarms.single.global_best - INFO - Optimization finished | best cost: 0.4270152433569055, best pos: [-0.15492303  0.86423663 -0.60801103 -0.5050141   0.24459375  0.7586288\n",
      " -0.80179956 -0.76874332  0.18296874]\n",
      "2020-10-30 22:02:57,079 - pyswarms.single.global_best - INFO - Optimize for 50 iters with {'c1': 0.5, 'c2': 0.3, 'w': 0.9}\n",
      "pyswarms.single.global_best:  28%|█████████████████▎                                            |14/50, best_cost=0.434"
     ]
    },
    {
     "name": "stdout",
     "output_type": "stream",
     "text": [
      "[-0.15492303  0.86423663 -0.60801103 -0.5050141   0.24459375  0.7586288\n",
      " -0.80179956 -0.76874332  0.18296874]\n",
      "0.4590724232623783 with 48  Neuron \n"
     ]
    },
    {
     "name": "stderr",
     "output_type": "stream",
     "text": [
      "pyswarms.single.global_best: 100%|██████████████████████████████████████████████████████████████|50/50, best_cost=0.434\n",
      "2020-10-30 22:02:57,484 - pyswarms.single.global_best - INFO - Optimization finished | best cost: 0.4340327587207026, best pos: [ 0.65666555  0.7333736   0.44361431  0.90246534 -0.829208    0.57174935\n",
      "  0.44453707  0.76880554  0.31695109]\n",
      "2020-10-30 22:02:57,501 - pyswarms.single.global_best - INFO - Optimize for 50 iters with {'c1': 0.5, 'c2': 0.3, 'w': 0.9}\n",
      "pyswarms.single.global_best:  22%|█████████████▋                                                |11/50, best_cost=0.444"
     ]
    },
    {
     "name": "stdout",
     "output_type": "stream",
     "text": [
      "[ 0.65666555  0.7333736   0.44361431  0.90246534 -0.829208    0.57174935\n",
      "  0.44453707  0.76880554  0.31695109]\n",
      "0.44840509554793545 with 49  Neuron \n"
     ]
    },
    {
     "name": "stderr",
     "output_type": "stream",
     "text": [
      "pyswarms.single.global_best: 100%|██████████████████████████████████████████████████████████████|50/50, best_cost=0.444\n",
      "2020-10-30 22:02:57,906 - pyswarms.single.global_best - INFO - Optimization finished | best cost: 0.44359635366457806, best pos: [ 0.39452492 -0.09040342  0.79437819  0.41082025 -0.8434031   0.25276226\n",
      " -0.4728907   0.38615299  0.34895006]\n"
     ]
    },
    {
     "name": "stdout",
     "output_type": "stream",
     "text": [
      "[ 0.39452492 -0.09040342  0.79437819  0.41082025 -0.8434031   0.25276226\n",
      " -0.4728907   0.38615299  0.34895006]\n",
      "0.455772501230721 with 50  Neuron \n",
      "\n",
      "TRAINING TIME 17.816\n"
     ]
    }
   ],
   "source": [
    "# Main Algorithm that increases the value of neurons in the hidden layer one by one and trying to achieve the best possible\n",
    "# perfromance with the added neurons \n",
    "\n",
    "L=0 # Number of neurons in hidden layer inititally\n",
    "max_neuron=50 # Maximum number of Neurons \n",
    "RMSE_expected=0.05  #Expected rmse or a threshold value that the network should have to break stop adding the neurons\n",
    "predicted_rmse=100    #Initial value of rmse\n",
    "beta=0\n",
    "E=Train_Label  #Initial value of error as training set label, to keep a check on the differnce between the target and the predicted\n",
    "new_a=np.random.uniform(low=-1,high=1,size=[len(Train_features[0]),1]) #Generating numpy array of weights for the first hidden neuron\n",
    "new_b=np.random.uniform(low=-1,high=1,size=[1])\n",
    "print(new_a)\n",
    "\n",
    "# ****** TRAININIG STARTS HERE ***********\n",
    "#Loop until the hidden layer reaches maximum number of neurons and until the predicted accuracy doesnt surpass the expected accuracy\n",
    "start_time=time.time()\n",
    "\n",
    "options = {'c1': 0.5, 'c2': 0.3, 'w':0.9} #Setting the hyper parameter and passing to the optimizer\n",
    "lb = [-1,-1,-1,-1,-1,-1,-1,-1,-1] #setting the upper and lower limit bounds for the weights and biases\n",
    "ub = [1,1,1,1,1,1,1,1,1]\n",
    "bounds=(lb,ub)\n",
    "\n",
    "while L<max_neuron and RMSE_expected<predicted_rmse :\n",
    "    L=L+1\n",
    "\n",
    "    if L==1:\n",
    "\n",
    "        mul=np.dot(Train_features,new_a)\n",
    "        sum=mul+new_b\n",
    "        activation=relu(sum)\n",
    "        beta_overall=np.dot(np.linalg.pinv(activation),E)\n",
    "        y=np.dot(activation,beta_overall)\n",
    "        E=E-y\n",
    "        predicted_rmse=RMSE(y,Train_Label)\n",
    "        print(\"-------- TRAINING RMSE ----------\")\n",
    "        print(\"\")\n",
    "        print(predicted_rmse,\"With\", L,\" Neuron\")\n",
    "        \n",
    "    else:\n",
    "\n",
    "        \n",
    "        optimizer = ps.single.GlobalBestPSO(n_particles=20,dimensions=9, options=options, bounds=bounds)\n",
    "        cost, pos = optimizer.optimize(swarm_initializer, iters=50,E=E)\n",
    "        print(pos)\n",
    "        a=pos[:8].reshape(len(Train_features[0]),1)\n",
    "\n",
    "#         a=np.random.uniform(low=-1,high=1,size=[len(Train_features[0]),1]) #creating a new random weights for the second neuron and so on\n",
    "#         b=np.random.uniform(low=-1,high=1,size=[1]) #creating a new random bias for the second neuron and so on\n",
    "        b=pos[-1].reshape(1,)\n",
    "        new_a=np.append(new_a,a,axis=1)\n",
    "        mul=np.dot(Train_features,a)\n",
    "        new_b=np.append(new_b,b,axis=0)\n",
    "        sum=mul+b\n",
    "        activation=relu(sum)\n",
    "        \n",
    "        beta=np.dot(pinv2(activation), E)\n",
    "        y=np.dot(activation,beta)\n",
    "        E=E-y\n",
    "        beta_overall=np.append(beta_overall,beta,axis=0)\n",
    "        predicted_rmse=RMSE(y,Train_Label)\n",
    "        print(predicted_rmse,\"with\", L,\" Neuron \")\n",
    "end_time=round(time.time()-start_time,3)\n",
    "print(\"\")\n",
    "print(\"TRAINING TIME\",end_time)\n"
   ]
  },
  {
   "cell_type": "code",
   "execution_count": 8,
   "metadata": {},
   "outputs": [
    {
     "name": "stdout",
     "output_type": "stream",
     "text": [
      "-------- TESTING RMSE --------\n",
      "\n",
      "0.19595105287909553\n",
      "\n",
      "TESTING TIME 0.002\n"
     ]
    }
   ],
   "source": [
    "#TESTING\n",
    "\n",
    "print(\"-------- TESTING RMSE --------\")\n",
    "print(\"\")\n",
    "start_time=time.time()\n",
    "h_test=np.dot(Test_features,new_a)\n",
    "sum_test=h_test+new_b\n",
    "activation_test=relu(sum_test)\n",
    "y_test=np.dot(activation_test,beta_overall)\n",
    "testing_rmse=RMSE(y_test,Test_Label)\n",
    "print(testing_rmse)\n",
    "end_time=round(time.time()-start_time,3)\n",
    "print(\"\")\n",
    "print(\"TESTING TIME\",end_time)\n",
    "\n"
   ]
  },
  {
   "cell_type": "code",
   "execution_count": null,
   "metadata": {},
   "outputs": [],
   "source": []
  },
  {
   "cell_type": "code",
   "execution_count": null,
   "metadata": {},
   "outputs": [],
   "source": []
  },
  {
   "cell_type": "code",
   "execution_count": null,
   "metadata": {},
   "outputs": [],
   "source": []
  }
 ],
 "metadata": {
  "kernelspec": {
   "display_name": "Python 3",
   "language": "python",
   "name": "python3"
  },
  "language_info": {
   "codemirror_mode": {
    "name": "ipython",
    "version": 3
   },
   "file_extension": ".py",
   "mimetype": "text/x-python",
   "name": "python",
   "nbconvert_exporter": "python",
   "pygments_lexer": "ipython3",
   "version": "3.7.3"
  }
 },
 "nbformat": 4,
 "nbformat_minor": 2
}
